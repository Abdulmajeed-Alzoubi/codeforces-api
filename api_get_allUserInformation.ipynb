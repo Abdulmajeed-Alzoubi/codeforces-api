{
 "cells": [
  {
   "cell_type": "markdown",
   "metadata": {
    "collapsed": true
   },
   "source": [
    "# Rating predictions\n",
    "\n",
    "user.ratedList\n",
    "user.rating <-- number of changes will tell us how many contests they've done\n",
    "\n",
    "- get users who's done at least 11 contests\n",
    "- \\# contests above ELO in the previous x amount of time\n",
    "- take submission dataframe, take last month above ELO --> get number of questions solved\n",
    "\n",
    "\n",
    "- how much momentum\n",
    " "
   ]
  },
  {
   "cell_type": "code",
   "execution_count": 2,
   "metadata": {
    "collapsed": true
   },
   "outputs": [],
   "source": [
    "%matplotlib inline\n",
    "%load_ext rpy2.ipython\n",
    "\n",
    "import requests\n",
    "import pandas as pd\n",
    "import numpy as np\n",
    "from datetime import datetime\n",
    "\n",
    "import seaborn as sns\n",
    "import matplotlib.pyplot as plt\n",
    "from os import listdir"
   ]
  },
  {
   "cell_type": "markdown",
   "metadata": {
    "collapsed": true
   },
   "source": [
    "## Fn: get user submissions"
   ]
  },
  {
   "cell_type": "code",
   "execution_count": 3,
   "metadata": {
    "collapsed": true
   },
   "outputs": [],
   "source": [
    "def getUserSubmissions(handle):\n",
    "    maxcount = '100000000'\n",
    "    url = 'http://codeforces.com/api/user.status?handle=' + handle + '&from=1&count=' + maxcount\n",
    "\n",
    "    r = requests.get(url).json()['result']\n",
    "\n",
    "    arr = []\n",
    "    keys = ['testset', 'passedTestCount', 'author', 'relativeTimeSeconds', \n",
    "            'language', 'memoryBytes', 'timeMilliseconds', 'problem_name', 'problem_index',\n",
    "            'problem_tags', 'points', 'contestID', 'verdict', 'id', 'participantType', 'startTimeSeconds']\n",
    "\n",
    "    for rr in r:\n",
    "        temp = dict.fromkeys(keys)\n",
    "        temp['author'] = rr['author']['members'][0]['handle']\n",
    "        temp['startTimeSeconds'] = rr['creationTimeSeconds']\n",
    "        if 'startTimeSeconds' not in rr['author']:\n",
    "            temp['participantType'] = 'GYM'\n",
    "        else:\n",
    "            temp['participantType'] = rr['author']['participantType']\n",
    "        temp['id'] = rr['id']\n",
    "        temp['verdict'] = rr['verdict']\n",
    "        temp['contestID'] = rr['contestId']\n",
    "        if 'points' not in rr['problem']:\n",
    "            temp['points'] = 0\n",
    "        else:\n",
    "            temp['points'] = rr['problem']['points']\n",
    "        temp['problem_tags'] = rr['problem']['tags']\n",
    "        temp['problem_index'] = rr['problem']['index']\n",
    "        temp['problem_name'] = rr['problem']['name']\n",
    "        temp['timeMilliseconds'] = rr['timeConsumedMillis']\n",
    "        temp['memoryBytes'] = rr['memoryConsumedBytes']\n",
    "        temp['language'] = rr['programmingLanguage']\n",
    "        temp['relativeTimeSeconds'] = rr['relativeTimeSeconds']\n",
    "        temp['passedTestCount'] = rr['passedTestCount']\n",
    "        temp['testset'] = rr['testset']\n",
    "\n",
    "        arr.append(temp)\n",
    "    return pd.DataFrame.from_dict(arr)"
   ]
  },
  {
   "cell_type": "markdown",
   "metadata": {
    "collapsed": true
   },
   "source": [
    "## Fn: get user rating history"
   ]
  },
  {
   "cell_type": "code",
   "execution_count": 4,
   "metadata": {
    "collapsed": true
   },
   "outputs": [],
   "source": [
    "def getUserRatingHistory(handle):\n",
    "    url = 'http://codeforces.com/api/user.rating?handle=' + handle\n",
    "\n",
    "    r = requests.get(url).json()['result']\n",
    "    return pd.DataFrame.from_dict(r)"
   ]
  },
  {
   "cell_type": "markdown",
   "metadata": {
    "collapsed": true
   },
   "source": [
    "## Fn: get list of users"
   ]
  },
  {
   "cell_type": "code",
   "execution_count": 5,
   "metadata": {
    "collapsed": false
   },
   "outputs": [],
   "source": [
    "url = 'http://codeforces.com/api/user.ratedList?activeOnly=true'\n",
    "users = requests.get(url).json()['result']\n",
    "\n",
    "allHandles = []\n",
    "for u in users:\n",
    "    allHandles.append(u['handle'])"
   ]
  },
  {
   "cell_type": "markdown",
   "metadata": {},
   "source": [
    "# API Calls to get user info "
   ]
  },
  {
   "cell_type": "code",
   "execution_count": 11,
   "metadata": {
    "collapsed": false,
    "scrolled": true
   },
   "outputs": [
    {
     "name": "stdout",
     "output_type": "stream",
     "text": [
      "0 asad_IT kept\n",
      "ratings_dfs len: 1\n",
      "1 mr.baraa kept\n",
      "ratings_dfs len: 2\n",
      "2 Hedgehogy kept\n",
      "ratings_dfs len: 3\n"
     ]
    }
   ],
   "source": [
    "ratings_dfs = []\n",
    "\n",
    "last_idx = 7965\n",
    "\n",
    "for idx, user in enumerate(allHandles[last_idx:]):\n",
    "    df = getUserRatingHistory(user)\n",
    "    if len(df) > 10:\n",
    "        ratings_dfs.append(df)\n",
    "        print idx, user, 'kept'\n",
    "    else:\n",
    "        print idx, user, 'skipped'\n",
    "    \n",
    "    print \"ratings_dfs len:\", len(ratings_dfs)\n",
    "    if len(ratings_dfs) >= 10:\n",
    "        out_df = pd.concat(ratings_dfs)\n",
    "        print \"writing\", len(out_df), \"lines to file...\"\n",
    "        with open('rating_histories.csv', 'a') as f:\n",
    "            out_df.to_csv(f, index=False, header=False, encoding='utf-8')\n",
    "        ratings_dfs = []\n",
    "\n",
    "# save anything left in out_df that's not a multiple of 10\n",
    "out_df = pd.concat(ratings_dfs)\n",
    "with open('rating_histories.csv', 'a') as f:\n",
    "    out_df.to_csv(f, index=False, header=False, encoding='utf-8')"
   ]
  }
 ],
 "metadata": {
  "kernelspec": {
   "display_name": "Python 2",
   "language": "python",
   "name": "python2"
  },
  "language_info": {
   "codemirror_mode": {
    "name": "ipython",
    "version": 2
   },
   "file_extension": ".py",
   "mimetype": "text/x-python",
   "name": "python",
   "nbconvert_exporter": "python",
   "pygments_lexer": "ipython2",
   "version": "2.7.11"
  },
  "toc": {
   "toc_cell": false,
   "toc_number_sections": true,
   "toc_threshold": 6,
   "toc_window_display": false
  }
 },
 "nbformat": 4,
 "nbformat_minor": 0
}
