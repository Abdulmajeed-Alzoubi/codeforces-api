{
 "cells": [
  {
   "cell_type": "code",
   "execution_count": 2,
   "metadata": {
    "collapsed": true
   },
   "outputs": [],
   "source": [
    "%matplotlib inline\n",
    "%load_ext rpy2.ipython\n",
    "\n",
    "import requests\n",
    "import pandas as pd\n",
    "import numpy as np\n",
    "from datetime import datetime\n",
    "\n",
    "import seaborn as sns\n",
    "import matplotlib.pyplot as plt\n",
    "from os import listdir"
   ]
  },
  {
   "cell_type": "code",
   "execution_count": 3,
   "metadata": {
    "collapsed": true
   },
   "outputs": [],
   "source": [
    "df_rhist = pd.DataFrame.from_csv('rating_histories.csv')"
   ]
  },
  {
   "cell_type": "code",
   "execution_count": 5,
   "metadata": {
    "collapsed": false
   },
   "outputs": [
    {
     "data": {
      "text/html": [
       "<div>\n",
       "<table border=\"1\" class=\"dataframe\">\n",
       "  <thead>\n",
       "    <tr style=\"text-align: right;\">\n",
       "      <th></th>\n",
       "      <th>contestName</th>\n",
       "      <th>handle</th>\n",
       "      <th>newRating</th>\n",
       "      <th>oldRating</th>\n",
       "      <th>rank</th>\n",
       "      <th>ratingUpdateTimeSeconds</th>\n",
       "    </tr>\n",
       "    <tr>\n",
       "      <th>contestId</th>\n",
       "      <th></th>\n",
       "      <th></th>\n",
       "      <th></th>\n",
       "      <th></th>\n",
       "      <th></th>\n",
       "      <th></th>\n",
       "    </tr>\n",
       "  </thead>\n",
       "  <tbody>\n",
       "    <tr>\n",
       "      <th>659</th>\n",
       "      <td>Codeforces Round #346 (Div. 2)</td>\n",
       "      <td>Hedgehogy</td>\n",
       "      <td>292</td>\n",
       "      <td>372</td>\n",
       "      <td>3594</td>\n",
       "      <td>1459362900</td>\n",
       "    </tr>\n",
       "    <tr>\n",
       "      <th>669</th>\n",
       "      <td>Codeforces Round #348 (VK Cup 2016 Round 2, Di...</td>\n",
       "      <td>Hedgehogy</td>\n",
       "      <td>222</td>\n",
       "      <td>292</td>\n",
       "      <td>2073</td>\n",
       "      <td>1461522900</td>\n",
       "    </tr>\n",
       "    <tr>\n",
       "      <th>670</th>\n",
       "      <td>Codeforces Round #350 (Div. 2)</td>\n",
       "      <td>Hedgehogy</td>\n",
       "      <td>152</td>\n",
       "      <td>222</td>\n",
       "      <td>3230</td>\n",
       "      <td>1462473300</td>\n",
       "    </tr>\n",
       "    <tr>\n",
       "      <th>673</th>\n",
       "      <td>Codeforces Round #351 (VK Cup 2016 Round 3, Di...</td>\n",
       "      <td>Hedgehogy</td>\n",
       "      <td>71</td>\n",
       "      <td>152</td>\n",
       "      <td>2328</td>\n",
       "      <td>1462644300</td>\n",
       "    </tr>\n",
       "    <tr>\n",
       "      <th>672</th>\n",
       "      <td>Codeforces Round #352 (Div. 2)</td>\n",
       "      <td>Hedgehogy</td>\n",
       "      <td>14</td>\n",
       "      <td>71</td>\n",
       "      <td>3200</td>\n",
       "      <td>1462991700</td>\n",
       "    </tr>\n",
       "  </tbody>\n",
       "</table>\n",
       "</div>"
      ],
      "text/plain": [
       "                                                 contestName     handle  \\\n",
       "contestId                                                                 \n",
       "659                           Codeforces Round #346 (Div. 2)  Hedgehogy   \n",
       "669        Codeforces Round #348 (VK Cup 2016 Round 2, Di...  Hedgehogy   \n",
       "670                           Codeforces Round #350 (Div. 2)  Hedgehogy   \n",
       "673        Codeforces Round #351 (VK Cup 2016 Round 3, Di...  Hedgehogy   \n",
       "672                           Codeforces Round #352 (Div. 2)  Hedgehogy   \n",
       "\n",
       "           newRating  oldRating  rank  ratingUpdateTimeSeconds  \n",
       "contestId                                                       \n",
       "659              292        372  3594               1459362900  \n",
       "669              222        292  2073               1461522900  \n",
       "670              152        222  3230               1462473300  \n",
       "673               71        152  2328               1462644300  \n",
       "672               14         71  3200               1462991700  "
      ]
     },
     "execution_count": 5,
     "metadata": {},
     "output_type": "execute_result"
    }
   ],
   "source": [
    "# for each user, we want to normalize times to when they first started\n"
   ]
  }
 ],
 "metadata": {
  "kernelspec": {
   "display_name": "Python 2",
   "language": "python",
   "name": "python2"
  },
  "language_info": {
   "codemirror_mode": {
    "name": "ipython",
    "version": 2
   },
   "file_extension": ".py",
   "mimetype": "text/x-python",
   "name": "python",
   "nbconvert_exporter": "python",
   "pygments_lexer": "ipython2",
   "version": "2.7.11"
  },
  "toc": {
   "toc_cell": false,
   "toc_number_sections": true,
   "toc_threshold": 6,
   "toc_window_display": false
  }
 },
 "nbformat": 4,
 "nbformat_minor": 0
}
