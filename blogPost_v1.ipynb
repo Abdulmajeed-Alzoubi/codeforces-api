{
 "cells": [
  {
   "cell_type": "markdown",
   "metadata": {},
   "source": [
    "# Codeforces blog post\n",
    "\n",
    "** TO DO **\n",
    "* Make better problem data function so it doesn't make 600+ api calls each time/ only update when needed\n",
    "* Figure out where to store the problem data function\n",
    "\n",
    "Figures list\n",
    "* **DONE** Trend in problem ELOs over time\n",
    "* **DONE** Distribution of all problem ELOs in D1 and D2\n",
    "* **DONE** Correlation between problem ELO and scores\n",
    "* Correlation between D1 and D2 scores for duplicated problems\n",
    "* Hardest and easiest problem writers\n"
   ]
  },
  {
   "cell_type": "code",
   "execution_count": 601,
   "metadata": {
    "collapsed": true
   },
   "outputs": [
    {
     "name": "stdout",
     "output_type": "stream",
     "text": [
      "The rpy2.ipython extension is already loaded. To reload it, use:\n",
      "  %reload_ext rpy2.ipython\n"
     ]
    }
   ],
   "source": [
    "%matplotlib inline\n",
    "%load_ext rpy2.ipython\n",
    "\n",
    "import requests\n",
    "import pandas as pd\n",
    "import numpy as np\n",
    "from datetime import datetime\n",
    "\n",
    "import seaborn as sns\n",
    "import matplotlib.pyplot as plt\n",
    "\n",
    "from api_functions import getProblemDataFromContest\n",
    "from api_functions import getContestList"
   ]
  },
  {
   "cell_type": "code",
   "execution_count": 48,
   "metadata": {
    "collapsed": true
   },
   "outputs": [],
   "source": [
    "# Grab a list of all problem data from currently rated contests\n",
    "# ONLY RUN THIS WHEN IT NEEDS TO BE UPDATED\n",
    "dflist = []\n",
    "for contestID in set(df_problems.contestID):\n",
    "    contestProblems = getProblemDataFromContest(contestID)\n",
    "    contestProblems = contestProblems.rename(index=str, columns={'index': 'problemID'})\n",
    "    contestProblems = contestProblems.drop('contestId', 1)\n",
    "    dflist.append(contestProblems)\n",
    "\n",
    "\n",
    "problemData = pd.concat(dflist)\n",
    "problemData.to_csv('problem_data.csv', encoding='utf-8', index=None)"
   ]
  },
  {
   "cell_type": "code",
   "execution_count": 560,
   "metadata": {
    "collapsed": false
   },
   "outputs": [],
   "source": [
    "df_problem_ratings = pd.DataFrame.from_csv('problem_ratings.csv', index_col=None)\n",
    "df_problem_info = pd.DataFrame.from_csv('problem_data.csv', index_col=None)\n",
    "\n",
    "df_problems = pd.merge(df_problem_ratings, df_problem_info)\n",
    "df_rhist = pd.DataFrame.from_csv('rating_histories.csv', index_col=None)\n",
    "df_rhist = df_rhist.rename(columns={'contestId':'contestID'})"
   ]
  },
  {
   "cell_type": "code",
   "execution_count": 747,
   "metadata": {
    "collapsed": false
   },
   "outputs": [],
   "source": [
    "# playing around with problem tags\n",
    "from re import sub\n",
    "from re import compile\n",
    "dict_tag = []\n",
    "\n",
    "regexp = compile('\\(.+?\\)')\n",
    "regexp2 = compile('\\[.+?\\]')\n",
    "regexp3 = compile('\\(.+?\\)')\n",
    "regexp4 = compile('\\\".+?\\\"')\n",
    "with open('problem_data.csv') as f:\n",
    "    lines = f.readlines()\n",
    "    headers = lines[0].strip().split(',')\n",
    "    tag_idx = headers.index('tags')\n",
    "    \n",
    "    for line in lines[1:]:\n",
    "        oldline = line\n",
    "        sline = regexp.sub('', line.strip())\n",
    "        sline = regexp2.sub('', sline)\n",
    "        sline = regexp3.sub('', sline)\n",
    "        sline = regexp4.sub('', sline)\n",
    "        sline = sline.split(',')\n",
    "        contestID = sline[0]\n",
    "\n",
    "        division = sline[2]\n",
    "        problemID = sline[5]\n",
    "\n",
    "        if ',\"[' in line:\n",
    "            tags = line.strip().split(',\"[')[1]\n",
    "        elif ',[' in line:\n",
    "            tags = line.strip().split(',[')[1]\n",
    "        tags = tags.split(']')[0]\n",
    "        tags = tags.split(', ')\n",
    "\n",
    "        for tag in tags:\n",
    "            dict_tag.append(\n",
    "                {\n",
    "                    'contestID': int(contestID),\n",
    "                    'problemID': problemID,\n",
    "                    'division': int(division),\n",
    "                    'tag': tag\n",
    "                }\n",
    "                )\n",
    "df_tags = pd.DataFrame.from_dict(dict_tag)\n",
    "df_tags = pd.merge(df_tags, df_problem_ratings)"
   ]
  },
  {
   "cell_type": "markdown",
   "metadata": {},
   "source": [
    "# Some basic plots using df_rhist and df_problems "
   ]
  },
  {
   "cell_type": "code",
   "execution_count": 870,
   "metadata": {
    "collapsed": false
   },
   "outputs": [
    {
     "data": {
      "text/plain": [
       "quartz_off_screen \n",
       "                3 \n"
      ]
     },
     "metadata": {},
     "output_type": "display_data"
    }
   ],
   "source": [
    "%%R -i df_problems -i df_rhist -i df_tags\n",
    "# [1] \"contestID\"        \"problemID\"        \"problemRating\"    \"contestName\"     \n",
    "# [5] \"division\"         \"name\"             \"points\"           \"startTimeSeconds\"\n",
    "# [9] \"tags\"             \"type\"   \n",
    "library(ggplot2)\n",
    "library(plotly)\n",
    "\n",
    "df <- df_problems\n",
    "\n",
    "df$division <- factor(df$division, levels=c(1,2,12))\n",
    "df$bin <- cut(df$points, c(0, 500, 1000, 1500, 2000, 2500, 3000, 3500, 4000))\n",
    "df$type <- 'other'\n",
    "df$adjusted_elo <- df$problemRating\n",
    "\n",
    "# annotate max and min problem ELOs\n",
    "tapply(1:nrow(df), df$contestID, function(idx){\n",
    "    ismax <- df[idx, 'problemRating'] == max(df[idx, 'problemRating'])\n",
    "    df$type[idx[ismax]] <<- 'hardest problem in contest'\n",
    "    \n",
    "    ismin <- df[idx, 'problemRating'] == min(df[idx, 'problemRating'])\n",
    "    df$type[idx[ismin]] <<- 'easiet problem in contest'\n",
    "    \n",
    "    df$adjusted_elo[idx] <<- df$adjusted_elo[idx] - min(df$adjusted_elo[idx])\n",
    "})\n",
    "\n",
    "# create dict of contest to division\n",
    "dict_contestID_division <- unique(df[, c('contestID' ,'division')])\n",
    "rownames(dict_contestID_division) <- as.character(dict_contestID_division$contestID)\n",
    "\n",
    "# average user rating per contest\n",
    "averageRating <- tapply(1:nrow(df_rhist), df_rhist$contestID, function(idx){\n",
    "    contestID <- df_rhist[idx[1], 'contestID']\n",
    "    averageRating <- median(df_rhist[idx, 'newRating'])\n",
    "    division <- dict_contestID_division[as.character(contestID), 'division']\n",
    "    \n",
    "    data.frame(contestID=contestID,\n",
    "              averageRating=averageRating,\n",
    "              division=division)\n",
    "    \n",
    "})\n",
    "df_averageRating <- do.call(rbind, averageRating)\n",
    "# filter out combined contests\n",
    "df_averageRating <- df_averageRating[df_averageRating$division != 12,]\n",
    "\n",
    "#df_rhist$type <- 'other'\n",
    "## annotate max and min user ratings per contest\n",
    "#tapply(1:nrow(df_rhist), df_rhist$contestId, function(idx){\n",
    "#    ismax <- df_rhist[idx, 'newRating'] == max(df_rhist[idx, 'newRating'])\n",
    "#    df_rhist$type[idx[ismax]] <<- 'max'\n",
    "#    \n",
    "#    ismin <- df_rhist[idx, 'newRating'] == min(df_rhist[idx, 'newRating'])\n",
    "#    df_rhist$type[idx[ismin]] <<- 'min'\n",
    "#    \n",
    "#    df_rhist$adjusted_elo[idx] <<- df_rhist$adjusted_elo[idx] - min(df_rhist$adjusted_elo[idx])\n",
    "#})\n",
    "\n",
    "df$problemID_simple <- substr(df$problemID, 1, 1)\n",
    "\n",
    "blank_theme <- theme(\n",
    "        panel.grid.major = element_blank(),\n",
    "        panel.grid.minor = element_blank(),\n",
    "        panel.background = element_blank(),\n",
    "        strip.background = element_blank(),\n",
    "        strip.text.x = element_blank(),\n",
    "        legend.position = 'bottom')\n",
    "\n",
    "df$divsion <- factor(df$division)\n",
    "\n",
    "df2 <- df[!is.na(df$points),]\n",
    "df2$division <- gsub('12', '1 + 2 Combined', df2$division)\n",
    "df2$division <- gsub('1', 'Div. 1', df2$division)\n",
    "df2$division <- gsub('2', 'Div. 2', df2$division)\n",
    "df2$division <- factor(df2$division, levels=c('Div. 2', 'Div. 1', 'Div. 1 + Div. 2 Combined'))\n",
    "fig_points_vs_rating <- ggplot(df2) +\n",
    "    #geom_boxplot(aes(x=bin, y=problemRating), outlier.shape = NA) + \n",
    "    geom_violin(aes(x=bin, y=problemRating)) + \n",
    "    annotate(\"rect\", ymin=1200, ymax=1399, xmin=-Inf, xmax=Inf, color=NA, fill='green', alpha=bgalpha) +\n",
    "    annotate(\"rect\", ymin=1400, ymax=1599, xmin=-Inf, xmax=Inf, color=NA, fill='#30DBCA', alpha=bgalpha) +\n",
    "    annotate(\"rect\", ymin=1600, ymax=1899, xmin=-Inf, xmax=Inf, color=NA, fill='#3094DB', alpha=bgalpha) +\n",
    "    annotate(\"rect\", ymin=1900, ymax=2199, xmin=-Inf, xmax=Inf, color=NA, fill='#B930DB', alpha=bgalpha) +\n",
    "    annotate(\"rect\", ymin=2200, ymax=2299, xmin=-Inf, xmax=Inf, color=NA, fill='#FFEA4D', alpha=bgalpha) +\n",
    "    annotate(\"rect\", ymin=2300, ymax=2399, xmin=-Inf, xmax=Inf, color=NA, fill='#FFBF00', alpha=bgalpha) +\n",
    "    annotate(\"rect\", ymin=2400, ymax=2599, xmin=-Inf, xmax=Inf, color=NA, fill='#FF7E61', alpha=bgalpha) +\n",
    "    annotate(\"rect\", ymin=2600, ymax=2899, xmin=-Inf, xmax=Inf, color=NA, fill='#FF4117', alpha=bgalpha) +\n",
    "    annotate(\"rect\", ymin=2900, ymax=Inf, xmin=-Inf, xmax=Inf, color=NA, fill='#CC0000', alpha=bgalpha) +\n",
    "    geom_violin(aes(x=bin, y=problemRating)) + \n",
    "    geom_jitter(aes(x=bin, y=problemRating), width = .6, size=.5, alpha=.1, color='blue') +\n",
    "    facet_wrap(~division) +\n",
    "\ttheme(axis.text.x = element_text(angle = 45, hjust=1, vjust=1)) +\n",
    "    labs(x=\"Points Assigned to Problem\", y=\"Problem Rating\")\n",
    "\n",
    "c <- ggplot(df)\n",
    "fig_points_histogram <- c + \n",
    "    annotate(\"rect\", xmin=1200, xmax=1399, ymin=-Inf, ymax=Inf, color=NA, fill='green', alpha=bgalpha) +\n",
    "    annotate(\"rect\", xmin=1400, xmax=1599, ymin=-Inf, ymax=Inf, color=NA, fill='#30DBCA', alpha=bgalpha) +\n",
    "    annotate(\"rect\", xmin=1600, xmax=1899, ymin=-Inf, ymax=Inf, color=NA, fill='#3094DB', alpha=bgalpha) +\n",
    "    annotate(\"rect\", xmin=1900, xmax=2199, ymin=-Inf, ymax=Inf, color=NA, fill='#B930DB', alpha=bgalpha) +\n",
    "    annotate(\"rect\", xmin=2200, xmax=2299, ymin=-Inf, ymax=Inf, color=NA, fill='#FFEA4D', alpha=bgalpha) +\n",
    "    annotate(\"rect\", xmin=2300, xmax=2399, ymin=-Inf, ymax=Inf, color=NA, fill='#FFBF00', alpha=bgalpha) +\n",
    "    annotate(\"rect\", xmin=2400, xmax=2599, ymin=-Inf, ymax=Inf, color=NA, fill='#FF7E61', alpha=bgalpha) +\n",
    "    annotate(\"rect\", xmin=2600, xmax=2899, ymin=-Inf, ymax=Inf, color=NA, fill='#FF4117', alpha=bgalpha) +\n",
    "    annotate(\"rect\", xmin=2900, xmax=Inf,  ymin=-Inf, ymax=Inf, color=NA, fill='#CC0000', alpha=bgalpha) +\n",
    "    geom_freqpoly(aes(x=problemRating, ..density.., linetype=division, group=division, color=division), binwidth=100) +\n",
    "    scale_color_manual(values = c('black', 'black', 'gray')) +\n",
    "\ttheme(axis.text.x = element_text(angle = 45, hjust=1, vjust=1))\n",
    "\n",
    "#fig_index_vs_rating <- \n",
    "#test <- c + \n",
    "#    geom_line(aes(x=problemID_simple, y=adjusted_elo, group=contestID), alpha=.2) + \n",
    "#\ttheme(axis.text.x = element_text(angle = 45, hjust=1, vjust=1))\n",
    "#ggplotly()\n",
    "\n",
    "color_scale <- c('hardest problem in contest' = 'red', \n",
    "                 'easiet problem in contest'='blue',\n",
    "                 'other'='gray')\n",
    "\n",
    "df$division <- as.character(df$division)\n",
    "df <- df[df$division != '12',]\n",
    "df <- df[df$problemRating != 5000,]\n",
    "\n",
    "fig_contestID_v_rating <-  \n",
    "    ggplot(df) + \n",
    "    geom_point(aes(x=contestID, y=problemRating, color=type), alpha=.2, size=2)  +\n",
    "    geom_line(data=df_averageRating, aes(x=contestID, y=averageRating, group=division, linetype=division), \n",
    "              color='black', size=1) + \n",
    "    scale_color_manual(values = color_scale) +\n",
    "    facet_wrap(~division, drop=TRUE, ncol=1) +\n",
    "    scale_alpha(range=c(0,1)) + \n",
    "    theme(legend.position = 'bottom')\n",
    "\n",
    "#pdf('fig_contestID_v_rating.pdf', width=8, height=12); print(fig_contestID_v_rating); dev.off()\n",
    "pdf('fig_points_vs_rating.pdf', width=10, height=5); print(fig_points_vs_rating); dev.off()\n",
    "#pdf('fig_points_histogram.pdf', width=10, height=5); print(fig_points_histogram); dev.off()\n",
    "\n"
   ]
  },
  {
   "cell_type": "code",
   "execution_count": 807,
   "metadata": {
    "collapsed": false
   },
   "outputs": [
    {
     "data": {
      "text/plain": [
       "quartz_off_screen \n",
       "                3 \n"
      ]
     },
     "metadata": {},
     "output_type": "display_data"
    }
   ],
   "source": [
    "%%R -i df_tags\n",
    "\n",
    "sorting <- tapply(1:nrow(df_tags), df_tags$tag, function(idx){\n",
    "    data.frame(tag=df_tags[idx, 'tag'][1], rating = median(df_tags[idx, 'problemRating']))\n",
    "    \n",
    "})\n",
    "\n",
    "sorting <- do.call(rbind,sorting)\n",
    "sorting <- sorting[order(sorting$rating),]\n",
    "\n",
    "df_tags$tag <- factor(df_tags$tag, levels=sorting$tag)\n",
    "#print(sorting[order(sorting),])\n",
    "\n",
    "bgalpha <- .2\n",
    "pdf('fig_tags.pdf', width=15, height=5)\n",
    "c <- ggplot() +\n",
    "    geom_violin(data=df_tags, aes(x=tag, y=problemRating), alpha=1) + \n",
    "    annotate(\"rect\", ymin=1200, ymax=1399, xmin=-Inf, xmax=Inf, color=NA, fill='green', alpha=bgalpha) +\n",
    "    annotate(\"rect\", ymin=1400, ymax=1599, xmin=-Inf, xmax=Inf, color=NA, fill='#30DBCA', alpha=bgalpha) +\n",
    "    annotate(\"rect\", ymin=1600, ymax=1899, xmin=-Inf, xmax=Inf, color=NA, fill='#3094DB', alpha=bgalpha) +\n",
    "    annotate(\"rect\", ymin=1900, ymax=2199, xmin=-Inf, xmax=Inf, color=NA, fill='#B930DB', alpha=bgalpha) +\n",
    "    annotate(\"rect\", ymin=2200, ymax=2299, xmin=-Inf, xmax=Inf, color=NA, fill='#FFEA4D', alpha=bgalpha) +\n",
    "    annotate(\"rect\", ymin=2300, ymax=2399, xmin=-Inf, xmax=Inf, color=NA, fill='#FFBF00', alpha=bgalpha) +\n",
    "    annotate(\"rect\", ymin=2400, ymax=2599, xmin=-Inf, xmax=Inf, color=NA, fill='#FF7E61', alpha=bgalpha) +\n",
    "    annotate(\"rect\", ymin=2600, ymax=2899, xmin=-Inf, xmax=Inf, color=NA, fill='#FF4117', alpha=bgalpha) +\n",
    "    annotate(\"rect\", ymin=2900, ymax=Inf, xmin=-Inf, xmax=Inf, color=NA, fill='#CC0000', alpha=bgalpha) +\n",
    "    geom_violin(data=df_tags, aes(x=tag, y=problemRating), alpha=1) + \n",
    "    geom_jitter(data=df_tags, aes(x=tag, y=problemRating), width = .6, size=.5, alpha=.2, color='blue') +\n",
    "\ttheme(axis.text.x = element_text(angle = 45, hjust=1, vjust=1))\n",
    "print(c)\n",
    "dev.off()"
   ]
  },
  {
   "cell_type": "markdown",
   "metadata": {},
   "source": [
    "# Duplicated Problems"
   ]
  },
  {
   "cell_type": "code",
   "execution_count": 391,
   "metadata": {
    "collapsed": false
   },
   "outputs": [],
   "source": [
    "# read in probable duplicate questions\n",
    "duplicates = []\n",
    "with open('problem_duplicates.csv') as f:\n",
    "    lines = f.readlines()\n",
    "    for line in lines[1:]:\n",
    "        line = line.strip().split(',')\n",
    "        if line[0] != line[2] and line[2] != line[3]:\n",
    "            duplicates.append(line)\n",
    "\n",
    "df_dup = []\n",
    "\n",
    "cnt = 0\n",
    "for dup in duplicates:\n",
    "    p1 = df_problems.loc[(df_problems.contestID == int(dup[0])) & (df_problems.problemID == dup[1])]\n",
    "    p2 = df_problems.loc[(df_problems.contestID == int(dup[2])) & (df_problems.problemID == dup[3])]\n",
    "    if p1.shape[0] > 0 and p2.shape[0] > 0:\n",
    "        if p1.loc[p1.index[0], 'division'] == 2:\n",
    "            p1, p2 = p2, p1\n",
    "        \n",
    "        if abs(p1.loc[p1.index[0], 'contestID'] - p2.loc[p2.index[0], 'contestID']) > 1:\n",
    "            continue\n",
    "        \n",
    "        if p1.loc[p1.index[0], 'problemID'] > p2.loc[p2.index[0], 'problemID']:\n",
    "            continue\n",
    "            \n",
    "        data = {\n",
    "            'd1_contestID':p1.loc[p1.index[0], 'contestID'],\n",
    "            'd2_contestID':p2.loc[p2.index[0], 'contestID'],\n",
    "            'd1_problemID':p1.loc[p1.index[0], 'problemID'],\n",
    "            'd2_problemID':p2.loc[p2.index[0], 'problemID'],\n",
    "            'd1_elo':p1.loc[p1.index[0], 'problemRating'],\n",
    "            'd2_elo':p2.loc[p2.index[0], 'problemRating']\n",
    "        }\n",
    "        \n",
    "        df_dup.append(data)\n",
    "        \n",
    "#        df_dup.append(p1[['problemRating', 'division']])\n",
    "#        df_dup.append(p2[['problemRating', 'division']])\n",
    "        \n",
    "        cnt += 1\n",
    "        if cnt == 100:\n",
    "            break\n",
    "\n",
    "df_dup = pd.DataFrame.from_dict(df_dup)"
   ]
  },
  {
   "cell_type": "markdown",
   "metadata": {},
   "source": [
    "as expected, there is some ELO inflation for problems that appeared both in D1 and in D2 "
   ]
  },
  {
   "cell_type": "code",
   "execution_count": 821,
   "metadata": {
    "collapsed": false
   },
   "outputs": [
    {
     "data": {
      "text/plain": [
       "quartz_off_screen \n",
       "                3 \n"
      ]
     },
     "metadata": {},
     "output_type": "display_data"
    }
   ],
   "source": [
    "%%R -i df_dup\n",
    "df <- df_dup\n",
    "\n",
    "ratings <- c(1200, 1400, 1600, 1900, 2200, 2300, 2400, 2600, 2900, Inf)\n",
    "colorscales = c(\n",
    "    '0' = 'gray',\n",
    "    '1' = 'green',\n",
    "    '2' = '#30DBCA',\n",
    "    '3' = '#3094DB',\n",
    "    '4' = '#B930DB',\n",
    "    '5' = '#FFEA4D',\n",
    "    '6' = '#FFBF00',\n",
    "    '7' = '#FF7E61',\n",
    "    '8' = '#FF4117',\n",
    "    '9' = '#CC0000'\n",
    ")\n",
    "names(colorscales) <- unique(df$color)\n",
    "\n",
    "df$color <- cut(df$d1_elo, ratings)\n",
    "c <- ggplot(df, aes(x=d1_elo, y=d2_elo))  +\n",
    "    geom_point(alpha=.5, aes(color=color), size=3) +\n",
    "    geom_abline(intercept=0, slope=1, size=.2, color='black') +\n",
    "    scale_color_manual(values = colorscales) +\n",
    "    theme(legend.position = 'None') +\n",
    "    labs(x='Div. 1 Problem ELO Score', y='Div. 2 Problem ELO Score')\n",
    "#ggplotly()\n",
    "pdf('fig_d1_v_d2.pdf', width=5, height=5)\n",
    "print(c)\n",
    "dev.off()"
   ]
  },
  {
   "cell_type": "code",
   "execution_count": 479,
   "metadata": {
    "collapsed": false
   },
   "outputs": [
    {
     "data": {
      "text/plain": [
       "     232      223      457      571      671      434 \n",
       "3339.200 3125.400 3122.833 2978.400 2938.400 2906.200 \n",
       "      9      16     412      34       4     413 \n",
       "1450.60 1421.00 1405.20 1379.80 1373.25 1327.40 \n"
      ]
     },
     "metadata": {},
     "output_type": "display_data"
    }
   ],
   "source": [
    "%%R -i df_problems\n",
    "\n",
    "df_writers <- tapply(1:nrow(df_problems), df$contestID, function(x){\n",
    "    df <- df_problems[x,]\n",
    "    c('contest'=df$contestID[0], 'rating'=mean(df$problemRating))\n",
    "})\n",
    "\n",
    "df_writers <- sort(df_writers, decreasing=TRUE)\n",
    "print(head(df_writers))\n",
    "print(tail(df_writers))"
   ]
  },
  {
   "cell_type": "code",
   "execution_count": 480,
   "metadata": {
    "collapsed": false
   },
   "outputs": [
    {
     "data": {
      "text/plain": [
       "{u'durationSeconds': 7200,\n",
       " u'frozen': False,\n",
       " u'id': 413,\n",
       " u'name': u'Coder-Strike 2014 - Round 2',\n",
       " u'phase': u'FINISHED',\n",
       " u'relativeTimeSeconds': 71594658,\n",
       " u'startTimeSeconds': 1397977200,\n",
       " u'type': u'CF'}"
      ]
     },
     "execution_count": 480,
     "metadata": {},
     "output_type": "execute_result"
    }
   ],
   "source": [
    "base = 'http://codeforces.com/api/contest.standings?contestId='\n",
    "suffix = '&showUnofficial=false'\n",
    "\n",
    "id = '413'\n",
    "url  = base + id + suffix\n",
    "\n",
    "r = requests.get(url).json()['result']\n",
    "r['contest']"
   ]
  }
 ],
 "metadata": {
  "kernelspec": {
   "display_name": "Python 2",
   "language": "python",
   "name": "python2"
  },
  "toc": {
   "toc_cell": false,
   "toc_number_sections": true,
   "toc_threshold": 6,
   "toc_window_display": false
  }
 },
 "nbformat": 4,
 "nbformat_minor": 0
}
