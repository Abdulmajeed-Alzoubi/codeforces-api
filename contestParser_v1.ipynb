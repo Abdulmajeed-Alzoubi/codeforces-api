{
 "cells": [
  {
   "cell_type": "markdown",
   "metadata": {},
   "source": [
    "# Contest Parser v1\n",
    "Goal is to return the following table\n",
    " \n",
    "handle | rating | contestID | problemID | success \n",
    "--- | --- | --- | --- | --- | ---\n",
    "handle0 | 1234 | 633 | A | 1\n",
    "handle0 | 1234 | 633 | B | 1\n",
    "handle0 | 1234 | 633 | C | 0\n"
   ]
  },
  {
   "cell_type": "code",
   "execution_count": 1,
   "metadata": {
    "collapsed": false
   },
   "outputs": [],
   "source": [
    "import requests\n",
    "import pandas as pd\n",
    "from collections import defaultdict"
   ]
  },
  {
   "cell_type": "code",
   "execution_count": 165,
   "metadata": {
    "collapsed": true
   },
   "outputs": [],
   "source": [
    "contestID = 398\n",
    "urlbase = 'http://codeforces.com/api/'\n",
    "method = 'contest.standings'\n",
    "maxcnt = 100000\n",
    "#http://codeforces.com/api/contest.standings?contestId=566&from=1&count=5&showUnofficial=true\n",
    "url = urlbase + method + '?contestId=' + str(contestID) + '&from=1&count=' + str(maxcnt) + '&showUnofficial=false'\n",
    "r = requests.get(url).json()['result']\n",
    "rows = r['rows']\n",
    "problems = r['problems']\n",
    "contest = r['contest']"
   ]
  },
  {
   "cell_type": "markdown",
   "metadata": {},
   "source": [
    "## row objects\n",
    "**keys:**\n",
    "```\n",
    "- successfulHackCount\n",
    "- unsuccessfulHackCount\n",
    "- rank\n",
    "- penalty\n",
    "- points\n",
    "- party\n",
    "- problemResults\n",
    "```\n",
    "\n",
    "Every entry appears to have the same keys\n",
    "```python\n",
    "test = rows[0].keys()\n",
    "all([r.keys() == test for r in rows])\n",
    "```\n",
    "\n",
    "**problem results**\n",
    "```\n",
    "bestSubmissionTimeSeconds': 3624 <-- this field is absent if the user has points 0\n",
    "points': 1330.0\n",
    "rejectedAttemptCount': 0\n",
    "type': u'FINAL' <-- All should be FINAL\n",
    "```\n",
    "\n",
    "```python\n",
    "test = []\n",
    "for r in rows:\n",
    "    for rr in r['problemResults']:\n",
    "        test.append(rr['type'])\n",
    "all([t == 'FINAL' for t in test])\n",
    "```\n",
    "returns True\n",
    "\n",
    "The following does not print anything:\n",
    "```python\n",
    "test = rows[0]['problemResults'][0].keys()\n",
    "for r in rows:\n",
    "    if not r['problemResults'][0].keys() == test and r['problemResults'][0]['points']!=0:\n",
    "        print r['problemResults'][0]\n",
    "```"
   ]
  },
  {
   "cell_type": "code",
   "execution_count": 161,
   "metadata": {
    "collapsed": false
   },
   "outputs": [],
   "source": [
    "# CHECK TO MAKE SURE THAT TEAMS ARE NOT ALLOWED!!!\n",
    "for r in rows: # for each person\n",
    "    if len(r['party']['members']) > 1:\n",
    "        print \"------------------NEED TO THROW ERROR HERE, CONTEST ALLOWS TEAMS\"\n",
    "        break"
   ]
  },
  {
   "cell_type": "code",
   "execution_count": 162,
   "metadata": {
    "collapsed": false
   },
   "outputs": [],
   "source": [
    "users = []\n",
    "points = []\n",
    "#ranks = []\n",
    "for r in rows:\n",
    "    users.append(r['party']['members'][0]['handle'])\n",
    "    \n",
    "    #ranks.append(r['rank'])\n",
    "    \n",
    "    userpts = [0]*len(problems)\n",
    "    for i in range(len(problems)):\n",
    "        userpts[i] = r['problemResults'][i]['points']\n",
    "    points.append([1 if u > 0 else 0 for u in userpts])"
   ]
  },
  {
   "cell_type": "code",
   "execution_count": 163,
   "metadata": {
    "collapsed": false
   },
   "outputs": [
    {
     "data": {
      "text/plain": [
       "[]"
      ]
     },
     "execution_count": 163,
     "metadata": {},
     "output_type": "execute_result"
    }
   ],
   "source": []
  },
  {
   "cell_type": "markdown",
   "metadata": {},
   "source": [
    "# Rating change parser\n"
   ]
  },
  {
   "cell_type": "code",
   "execution_count": 153,
   "metadata": {
    "collapsed": true
   },
   "outputs": [],
   "source": [
    "# Grab rating changes\n",
    "method = 'contest.ratingChanges'\n",
    "url = urlbase + method + '?contestId=' + str(contestID)\n",
    "ratingchanges = requests.get(url).json()['result']\n",
    "ratingdict = dict()\n",
    "for r in ratingchanges:\n",
    "    ratingdict[r['handle']] = r['oldRating']"
   ]
  },
  {
   "cell_type": "code",
   "execution_count": 154,
   "metadata": {
    "collapsed": false
   },
   "outputs": [
    {
     "data": {
      "text/plain": [
       "'http://codeforces.com/api/contest.ratingChanges?contestId=398'"
      ]
     },
     "execution_count": 154,
     "metadata": {},
     "output_type": "execute_result"
    }
   ],
   "source": [
    "url"
   ]
  },
  {
   "cell_type": "markdown",
   "metadata": {},
   "source": [
    "# Create output df "
   ]
  },
  {
   "cell_type": "code",
   "execution_count": 155,
   "metadata": {
    "collapsed": false
   },
   "outputs": [],
   "source": [
    "# start constructing dataframe\n",
    "array_out = []\n",
    "for i in range(len(users)): # for each user in the contest\n",
    "    hdl = users[i]\n",
    "    print \"handle:\", hdl\n",
    "    rating = ratingdict[hdl]\n",
    "    for j, p in enumerate(problems): # for each problem in the contest, make a new row\n",
    "        temp = dict.fromkeys(['handle', 'rating', 'contestID', 'problemID', 'success'])\n",
    "        temp['handle'] = hdl\n",
    "        temp['contestID'] = contestID\n",
    "        temp['problemID'] = p['index']\n",
    "        temp['success'] = points[i][j]\n",
    "        temp['rating'] = rating\n",
    "        array_out.append(temp)\n",
    "    "
   ]
  },
  {
   "cell_type": "code",
   "execution_count": 156,
   "metadata": {
    "collapsed": false,
    "scrolled": true
   },
   "outputs": [],
   "source": [
    "output = pd.DataFrame.from_dict(array_out)"
   ]
  },
  {
   "cell_type": "code",
   "execution_count": 6,
   "metadata": {
    "collapsed": false
   },
   "outputs": [
    {
     "data": {
      "text/plain": [
       "[{u'contestId': 585,\n",
       "  u'index': u'A',\n",
       "  u'name': u'Gennady the Dentist',\n",
       "  u'points': 500.0,\n",
       "  u'tags': [u'brute force', u'implementation'],\n",
       "  u'type': u'PROGRAMMING'},\n",
       " {u'contestId': 585,\n",
       "  u'index': u'B',\n",
       "  u'name': u'Phillip and Trains',\n",
       "  u'points': 750.0,\n",
       "  u'tags': [u'dfs and similar'],\n",
       "  u'type': u'PROGRAMMING'},\n",
       " {u'contestId': 585,\n",
       "  u'index': u'C',\n",
       "  u'name': u'Alice, Bob, Oranges and Apples',\n",
       "  u'points': 1250.0,\n",
       "  u'tags': [u'number theory'],\n",
       "  u'type': u'PROGRAMMING'},\n",
       " {u'contestId': 585,\n",
       "  u'index': u'D',\n",
       "  u'name': u'Lizard Era: Beginning',\n",
       "  u'points': 1750.0,\n",
       "  u'tags': [u'meet-in-the-middle'],\n",
       "  u'type': u'PROGRAMMING'},\n",
       " {u'contestId': 585,\n",
       "  u'index': u'E',\n",
       "  u'name': u'Present for Vitalik the Philatelist ',\n",
       "  u'points': 2250.0,\n",
       "  u'tags': [u'combinatorics', u'math', u'number theory'],\n",
       "  u'type': u'PROGRAMMING'},\n",
       " {u'contestId': 585,\n",
       "  u'index': u'F',\n",
       "  u'name': u'Digits of Number Pi',\n",
       "  u'points': 3000.0,\n",
       "  u'tags': [u'dp', u'implementation', u'strings'],\n",
       "  u'type': u'PROGRAMMING'}]"
      ]
     },
     "execution_count": 6,
     "metadata": {},
     "output_type": "execute_result"
    }
   ],
   "source": [
    "# %load api_functions.py\n",
    "\n",
    "import os\n",
    "import re\n",
    "import sys\n",
    "import time\n",
    "import requests\n",
    "import pandas as pd\n",
    "\n",
    "from collections import defaultdict\n",
    "\n",
    "def getProblemTagsFromContest(contestID):\n",
    "    url = 'http://codeforces.com/api/contest.standings?contestId=' + str(contestID) + '&from=1&count=1'\n",
    "    r = requests.get(url).json()['result']\n",
    "\n",
    "    problems = r['problems']\n",
    "    return problems\n",
    "#    probdf = pd.DataFrame.from_dict(problems)\n",
    "#\n",
    "#    probdf['contestID'] = contestID\n",
    "#    probdf['contestName'] = contest\n",
    "#    probdf['startTimeSeconds'] = startTimeSeconds\n",
    "#\n",
    "#    probdf['division'] = 12\n",
    "#    if isD1 and not isD2: probdf['division'] = 1\n",
    "#    if isD2 and not isD1: probdf['division'] = 2\n",
    "#\n",
    "#    return probdf\n",
    "\n",
    "getProblemTagsFromContest('585')"
   ]
  }
 ],
 "metadata": {
  "kernelspec": {
   "display_name": "Python 2",
   "language": "python",
   "name": "python2"
  },
  "language_info": {
   "codemirror_mode": {
    "name": "ipython",
    "version": 2
   },
   "file_extension": ".py",
   "mimetype": "text/x-python",
   "name": "python",
   "nbconvert_exporter": "python",
   "pygments_lexer": "ipython2",
   "version": "2.7.11"
  },
  "toc": {
   "toc_cell": false,
   "toc_number_sections": true,
   "toc_threshold": 6,
   "toc_window_display": true
  }
 },
 "nbformat": 4,
 "nbformat_minor": 0
}
