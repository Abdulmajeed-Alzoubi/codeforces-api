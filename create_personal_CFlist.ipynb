{
 "cells": [
  {
   "cell_type": "markdown",
   "metadata": {
    "collapsed": true
   },
   "source": [
    "# Create Personal CF Problems List\n",
    "Given current rating, find most recent problems x ELO above that rating\n",
    "\n",
    "problem url pattern: http://codeforces.com/contest/671/problem/B\n",
    "\n",
    "problem contains: Index([u'contestID', u'problemID', u'problemRating'], dtype='object')\n"
   ]
  },
  {
   "cell_type": "code",
   "execution_count": 1,
   "metadata": {
    "collapsed": true
   },
   "outputs": [],
   "source": [
    "%matplotlib inline\n",
    "%load_ext rpy2.ipython\n",
    "\n",
    "import requests\n",
    "import pandas as pd\n",
    "import numpy as np\n",
    "from datetime import datetime\n",
    "\n",
    "import seaborn as sns\n",
    "import matplotlib.pyplot as plt\n",
    "from os import listdir"
   ]
  },
  {
   "cell_type": "code",
   "execution_count": 28,
   "metadata": {
    "collapsed": true
   },
   "outputs": [],
   "source": [
    "def makeURL(row):\n",
    "    return \"http://codeforces.com/contest/\" + str(row['contestID']) + \"/problem/\" + str(row['problemID'])"
   ]
  },
  {
   "cell_type": "code",
   "execution_count": 20,
   "metadata": {
    "collapsed": false
   },
   "outputs": [],
   "source": [
    "df_problems = pd.DataFrame.from_csv('problem_ratings.csv', index_col=None)\n",
    "duplicates = pd.DataFrame.from_csv('problem_duplicates.csv', index_col=None)"
   ]
  },
  {
   "cell_type": "code",
   "execution_count": 32,
   "metadata": {
    "collapsed": false,
    "scrolled": true
   },
   "outputs": [],
   "source": [
    "cutoff = 1536\n",
    "gap = 300\n",
    "contest_thresh = 300\n",
    "idx = (df_problems.problemRating >= cutoff + gap) & (df_problems.contestID >= contest_thresh)\n",
    "df_problems = df_problems.loc[idx]\n",
    "df_problems.sort_values(by=['problemRating', 'contestID'])\n",
    "\n",
    "df_problems['url'] = df_problems.apply(makeURL, axis=1)"
   ]
  },
  {
   "cell_type": "code",
   "execution_count": 34,
   "metadata": {
    "collapsed": false
   },
   "outputs": [],
   "source": [
    "df_problems.to_csv('problem_list_joy.csv')"
   ]
  }
 ],
 "metadata": {
  "kernelspec": {
   "display_name": "Python 2",
   "language": "python",
   "name": "python2"
  },
  "language_info": {
   "codemirror_mode": {
    "name": "ipython",
    "version": 2
   },
   "file_extension": ".py",
   "mimetype": "text/x-python",
   "name": "python",
   "nbconvert_exporter": "python",
   "pygments_lexer": "ipython2",
   "version": "2.7.11"
  },
  "toc": {
   "toc_cell": false,
   "toc_number_sections": true,
   "toc_threshold": 6,
   "toc_window_display": false
  }
 },
 "nbformat": 4,
 "nbformat_minor": 0
}
