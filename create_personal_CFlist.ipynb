{
 "cells": [
  {
   "cell_type": "markdown",
   "metadata": {
    "collapsed": true
   },
   "source": [
    "# Create Personal CF Problems List\n",
    "Given current rating, find most recent problems x ELO above that rating\n",
    "\n",
    "** TO DO **\n",
    "- get rid of duplicates\n",
    "- keep track of which problems have already been done\n",
    "\n",
    "problem url pattern: http://codeforces.com/contest/671/problem/B\n",
    "\n",
    "problem contains: Index([u'contestID', u'problemID', u'problemRating'], dtype='object')\n"
   ]
  },
  {
   "cell_type": "code",
   "execution_count": 1,
   "metadata": {
    "collapsed": true
   },
   "outputs": [],
   "source": [
    "%matplotlib inline\n",
    "%load_ext rpy2.ipython\n",
    "\n",
    "import requests\n",
    "import pandas as pd\n",
    "import numpy as np\n",
    "from datetime import datetime\n",
    "\n",
    "import seaborn as sns\n",
    "import matplotlib.pyplot as plt\n",
    "from os import listdir"
   ]
  },
  {
   "cell_type": "code",
   "execution_count": 44,
   "metadata": {
    "collapsed": false
   },
   "outputs": [],
   "source": [
    "def makeURL(row):\n",
    "    return \"http://codeforces.com/contest/\" + str(row['contestID']) + \"/problem/\" + str(row['problemID'])\n",
    "\n",
    "def getProblemSet(minrating, maxrating, oldest_contest_id):\n",
    "    \"\"\"\n",
    "    minrating: min rating for problems\n",
    "    maxrating: max rating for problems\n",
    "    oldest_contest_id: oldest contest ID allowed\n",
    "    \"\"\"\n",
    "    df_problems = pd.DataFrame.from_csv('problem_ratings.csv', index_col=None)\n",
    "    #duplicates = pd.DataFrame.from_csv('problem_duplicates.csv', index_col=None)\n",
    "    \n",
    "    idx = (df_problems.problemRating >= minrating) &\\\n",
    "        (df_problems.problemRating <= maxrating) &\\\n",
    "        (df_problems.contestID >= oldest_contest_id)\n",
    "    df_problems = df_problems.loc[idx]\n",
    "    df_problems.sort_values(by=['problemRating', 'contestID'])\n",
    "\n",
    "    df_problems['url'] = df_problems.apply(makeURL, axis=1)\n",
    "    df_problems = df_problems[['problemRating', 'contestID', 'problemID', 'url']]\n",
    "    return df_problems\n"
   ]
  },
  {
   "cell_type": "code",
   "execution_count": 45,
   "metadata": {
    "collapsed": false
   },
   "outputs": [],
   "source": [
    "minrating = 2200\n",
    "maxrating = 2300\n",
    "oldest_contest = 250\n",
    "pset = getProblemSet(minrating, maxrating, oldest_contest)\n",
    "pset.to_csv('pset_mark.csv', index=False)"
   ]
  },
  {
   "cell_type": "code",
   "execution_count": 47,
   "metadata": {
    "collapsed": false
   },
   "outputs": [],
   "source": [
    "minrating = 1836\n",
    "maxrating = 1900\n",
    "oldest_contest = 300\n",
    "pset = getProblemSet(minrating, maxrating, oldest_contest)\n",
    "pset.to_csv('pset_joy.csv', index=False)"
   ]
  },
  {
   "cell_type": "code",
   "execution_count": 46,
   "metadata": {
    "collapsed": false
   },
   "outputs": [
    {
     "data": {
      "text/html": [
       "<div>\n",
       "<table border=\"1\" class=\"dataframe\">\n",
       "  <thead>\n",
       "    <tr style=\"text-align: right;\">\n",
       "      <th></th>\n",
       "      <th>problemRating</th>\n",
       "      <th>contestID</th>\n",
       "      <th>problemID</th>\n",
       "      <th>url</th>\n",
       "    </tr>\n",
       "  </thead>\n",
       "  <tbody>\n",
       "    <tr>\n",
       "      <th>1843</th>\n",
       "      <td>2202</td>\n",
       "      <td>634</td>\n",
       "      <td>D</td>\n",
       "      <td>http://codeforces.com/contest/634/problem/D</td>\n",
       "    </tr>\n",
       "    <tr>\n",
       "      <th>1845</th>\n",
       "      <td>2204</td>\n",
       "      <td>253</td>\n",
       "      <td>D</td>\n",
       "      <td>http://codeforces.com/contest/253/problem/D</td>\n",
       "    </tr>\n",
       "    <tr>\n",
       "      <th>1846</th>\n",
       "      <td>2204</td>\n",
       "      <td>557</td>\n",
       "      <td>D</td>\n",
       "      <td>http://codeforces.com/contest/557/problem/D</td>\n",
       "    </tr>\n",
       "    <tr>\n",
       "      <th>1847</th>\n",
       "      <td>2205</td>\n",
       "      <td>454</td>\n",
       "      <td>D</td>\n",
       "      <td>http://codeforces.com/contest/454/problem/D</td>\n",
       "    </tr>\n",
       "    <tr>\n",
       "      <th>1848</th>\n",
       "      <td>2205</td>\n",
       "      <td>555</td>\n",
       "      <td>C</td>\n",
       "      <td>http://codeforces.com/contest/555/problem/C</td>\n",
       "    </tr>\n",
       "  </tbody>\n",
       "</table>\n",
       "</div>"
      ],
      "text/plain": [
       "      problemRating  contestID problemID  \\\n",
       "1843           2202        634         D   \n",
       "1845           2204        253         D   \n",
       "1846           2204        557         D   \n",
       "1847           2205        454         D   \n",
       "1848           2205        555         C   \n",
       "\n",
       "                                              url  \n",
       "1843  http://codeforces.com/contest/634/problem/D  \n",
       "1845  http://codeforces.com/contest/253/problem/D  \n",
       "1846  http://codeforces.com/contest/557/problem/D  \n",
       "1847  http://codeforces.com/contest/454/problem/D  \n",
       "1848  http://codeforces.com/contest/555/problem/C  "
      ]
     },
     "execution_count": 46,
     "metadata": {},
     "output_type": "execute_result"
    }
   ],
   "source": [
    "pset.head()"
   ]
  },
  {
   "cell_type": "code",
   "execution_count": 20,
   "metadata": {
    "collapsed": true
   },
   "outputs": [],
   "source": [
    "#df_problems = pd.DataFrame.from_csv('problem_ratings.csv', index_col=None)\n",
    "#duplicates = pd.DataFrame.from_csv('problem_duplicates.csv', index_col=None)\n",
    "#\n",
    "#cutoff = 1536\n",
    "#gap = 300\n",
    "#contest_thresh = 300\n",
    "#idx = (df_problems.problemRating >= cutoff + gap) & (df_problems.contestID >= contest_thresh)\n",
    "#df_problems = df_problems.loc[idx]\n",
    "#df_problems.sort_values(by=['problemRating', 'contestID'])\n",
    "#\n",
    "#df_problems['url'] = df_problems.apply(makeURL, axis=1)\n",
    "#\n",
    "#df_problems.to_csv('problem_list_joy.csv')"
   ]
  }
 ],
 "metadata": {
  "kernelspec": {
   "display_name": "Python 2",
   "language": "python",
   "name": "python2"
  },
  "language_info": {
   "codemirror_mode": {
    "name": "ipython",
    "version": 2
   },
   "file_extension": ".py",
   "mimetype": "text/x-python",
   "name": "python",
   "nbconvert_exporter": "python",
   "pygments_lexer": "ipython2",
   "version": "2.7.11"
  },
  "toc": {
   "toc_cell": false,
   "toc_number_sections": true,
   "toc_threshold": 6,
   "toc_window_display": false
  }
 },
 "nbformat": 4,
 "nbformat_minor": 0
}
